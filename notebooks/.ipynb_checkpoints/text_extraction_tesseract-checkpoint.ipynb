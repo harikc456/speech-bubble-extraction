{
 "cells": [
  {
   "cell_type": "code",
   "execution_count": 1,
   "metadata": {},
   "outputs": [],
   "source": [
    "import os\n",
    "import numpy as np\n",
    "import torch\n",
    "import cv2\n",
    "import manga109api\n",
    "import torchvision\n",
    "from torchvision import transforms\n",
    "from src.dataset import Resizer, Normalizer\n",
    "from src.model import EfficientDet\n",
    "from torch.utils.data import DataLoader\n",
    "import matplotlib.pyplot as plt\n",
    "from tqdm.notebook import tqdm\n",
    "import pytesseract\n",
    "from PIL import Image\n",
    "pytesseract.pytesseract.tesseract_cmd = \"F://Tesseract-OCR//tesseract.exe\""
   ]
  },
  {
   "cell_type": "code",
   "execution_count": 2,
   "metadata": {},
   "outputs": [],
   "source": [
    "PATH = \"mangadet.pth\""
   ]
  },
  {
   "cell_type": "code",
   "execution_count": null,
   "metadata": {},
   "outputs": [],
   "source": [
    "model = EfficientDet(num_classes = 2).cuda()\n",
    "model.load_state_dict(torch.load(PATH))\n",
    "model.eval()"
   ]
  },
  {
   "cell_type": "code",
   "execution_count": null,
   "metadata": {},
   "outputs": [],
   "source": [
    "image_base_path = \"F:\\\\Datasets\\\\Manga109\\\\images\\\\\"\n",
    "manga109_root_dir = \"F:\\\\Datasets\\\\Manga109\"\n",
    "p = manga109api.Parser(root_dir=manga109_root_dir)"
   ]
  },
  {
   "cell_type": "code",
   "execution_count": null,
   "metadata": {},
   "outputs": [],
   "source": [
    "book = \"ARMS\"\n",
    "page_index = 19\n",
    "image_full_path = image_base_path + book + '\\\\'\n",
    "annotation = p.get_annotation(book=book)"
   ]
  },
  {
   "cell_type": "code",
   "execution_count": null,
   "metadata": {},
   "outputs": [],
   "source": [
    "img = cv2.imread(p.img_path(book=book, index=page_index))\n",
    "width, height, _ = img.shape\n",
    "h_scale, w_scale = width/512, height/512\n",
    "img = cv2.cvtColor(img, cv2.COLOR_BGR2RGB)\n",
    "img = cv2.resize(img, (512,512))\n",
    "img = img.astype(np.float32) / 255.\n",
    "img = torch.from_numpy(img).unsqueeze(0)\n",
    "img = img.permute(0, 3, 1, 2).double().cuda()"
   ]
  },
  {
   "cell_type": "code",
   "execution_count": null,
   "metadata": {},
   "outputs": [],
   "source": [
    "with torch.no_grad():\n",
    "    out = model(img)"
   ]
  },
  {
   "cell_type": "code",
   "execution_count": null,
   "metadata": {},
   "outputs": [],
   "source": [
    "ocr_img = Image.open(p.img_path(book=book, index=page_index))\n",
    "ocr_texts = []\n",
    "for box in out[2]:\n",
    "    xmin = int(box[0] * w_scale)\n",
    "    ymin = int(box[1] * h_scale)\n",
    "    xmax = int(box[2] * w_scale)\n",
    "    ymax = int(box[3] * h_scale)\n",
    "    crop_img = ocr_img.crop((xmin, ymin, xmax, ymax))\n",
    "    ocr_text = pytesseract.image_to_string(crop_img, lang='jpn+jpn_vert')\n",
    "    ocr_texts.append(ocr_text)"
   ]
  },
  {
   "cell_type": "code",
   "execution_count": null,
   "metadata": {},
   "outputs": [],
   "source": [
    "plt.imshow(crop_img)"
   ]
  },
  {
   "cell_type": "code",
   "execution_count": null,
   "metadata": {},
   "outputs": [],
   "source": [
    "cv2.adaptiveThreshold(img,255,cv2.ADAPTIVE_THRESH_GAUSSIAN_C, cv2.THRESH_BINARY,11,2)"
   ]
  },
  {
   "cell_type": "code",
   "execution_count": 21,
   "metadata": {},
   "outputs": [
    {
     "data": {
      "text/plain": [
       "['① 送 ま\\n\\nダメ コン の\\n限界 内 !\\n\\x0c',\n",
       " 'そん な も ん\\nこっ ち だ っ て\\n見 た か\\n\\nョ\\n\\x0c',\n",
       " 'が ⑨A。\\nコ ー ョ ==ne\\n詳細 な 資料 を\\nS\\n\\x0c',\n",
       " 'ホッ ギン グ\\n\\x0c',\n",
       " '⑧ な\\n死ぬ と こ\\nな ん て\\n見 せ た く\\nね え か ら\\nt\\n\\x0c',\n",
       " 'ョ ー\\nな ん と か\\nな らん の\\n\\nお れ が\\n死ぬ と こ\\nな ん て\\n見 せ た く\\nで a る\\nら\\n\\x0c',\n",
       " '\\x0c',\n",
       " 'スト レス が\\n増大 っ\\n\\x0c',\n",
       " '船体 を\\n\\nまかせ みろ\\n\\x0c',\n",
       " 'リ ト ー パ\\nな ん と か\\nな らち ん の か\\n\\x0c',\n",
       " '超重 子 弾\\nES\\n\\x0c',\n",
       " 'bi に b\\n\\x0c',\n",
       " ' \\n\\x0c',\n",
       " '\\x0c',\n",
       " ' \\n\\x0c',\n",
       " '\\x0c',\n",
       " '連続 波 が\\n来る ぞ グ\\n\\x0c',\n",
       " ' \\n\\n*knax\\nョ ー ョ ==me\\n詳細 な 資料 を\\n口 R っ K\\n\\x0c',\n",
       " ' \\n\\x0c',\n",
       " ' \\n\\x0c',\n",
       " 'ト = ト\\nテキ スト\\nレー ザー で\\n\\x0c',\n",
       " '\\x0c',\n",
       " ' \\n\\x0c',\n",
       " '\\x0c']"
      ]
     },
     "execution_count": 21,
     "metadata": {},
     "output_type": "execute_result"
    }
   ],
   "source": [
    "ocr_texts"
   ]
  },
  {
   "cell_type": "code",
   "execution_count": 14,
   "metadata": {},
   "outputs": [
    {
     "name": "stdout",
     "output_type": "stream",
     "text": [
      "['eng', 'jpn', 'jpn_vert', 'osd']\n"
     ]
    }
   ],
   "source": [
    "print(pytesseract.get_languages(config=''))"
   ]
  },
  {
   "cell_type": "code",
   "execution_count": 18,
   "metadata": {},
   "outputs": [],
   "source": [
    "ocr_text = pytesseract.image_to_string(crop_img, lang='jpn+jpn_vert')"
   ]
  },
  {
   "cell_type": "code",
   "execution_count": 19,
   "metadata": {},
   "outputs": [
    {
     "data": {
      "text/plain": [
       "'\\x0c'"
      ]
     },
     "execution_count": 19,
     "metadata": {},
     "output_type": "execute_result"
    }
   ],
   "source": [
    "ocr_text"
   ]
  }
 ],
 "metadata": {
  "kernelspec": {
   "display_name": "deep",
   "language": "python",
   "name": "deep"
  },
  "language_info": {
   "codemirror_mode": {
    "name": "ipython",
    "version": 3
   },
   "file_extension": ".py",
   "mimetype": "text/x-python",
   "name": "python",
   "nbconvert_exporter": "python",
   "pygments_lexer": "ipython3",
   "version": "3.6.10"
  }
 },
 "nbformat": 4,
 "nbformat_minor": 4
}
