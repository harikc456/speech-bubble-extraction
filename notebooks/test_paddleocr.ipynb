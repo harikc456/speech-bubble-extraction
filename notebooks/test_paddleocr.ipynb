{
 "cells": [
  {
   "cell_type": "code",
   "execution_count": 1,
   "metadata": {},
   "outputs": [],
   "source": [
    "import os\n",
    "import numpy as np\n",
    "import torch\n",
    "import cv2\n",
    "import manga109api\n",
    "import matplotlib.pyplot as plt\n",
    "from tqdm.notebook import tqdm\n",
    "from paddleocr import PaddleOCR"
   ]
  },
  {
   "cell_type": "code",
   "execution_count": 15,
   "metadata": {},
   "outputs": [],
   "source": [
    "image_base_path = \"F:\\\\Datasets\\\\Manga109\\\\images\\\\\"\n",
    "manga109_root_dir = \"F:\\\\Datasets\\\\Manga109\"\n",
    "p = manga109api.Parser(root_dir=manga109_root_dir)"
   ]
  },
  {
   "cell_type": "code",
   "execution_count": 5,
   "metadata": {},
   "outputs": [
    {
     "name": "stdout",
     "output_type": "stream",
     "text": [
      "[2021/10/13 22:08:40] root WARNING: lang en is not support in PP-OCRv2, use PP-OCR instead\n",
      "[2021/10/13 22:08:40] root WARNING: lang japan is not support in PP-OCRv2, use PP-OCR instead\n",
      "[2021/10/13 22:08:40] root WARNING: version PP-OCRv2 not support cls models, use version PP-OCR instead\n",
      "Namespace(benchmark=False, cls_batch_num=6, cls_image_shape='3, 48, 192', cls_model_dir='C:\\\\Users\\\\HARIKRISHNAN/.paddleocr/2.3.0.1\\\\ocr\\\\cls\\\\ch_ppocr_mobile_v2.0_cls_infer', cls_thresh=0.9, cpu_threads=10, det=True, det_algorithm='DB', det_db_box_thresh=0.6, det_db_score_mode='fast', det_db_thresh=0.3, det_db_unclip_ratio=1.5, det_east_cover_thresh=0.1, det_east_nms_thresh=0.2, det_east_score_thresh=0.8, det_limit_side_len=960, det_limit_type='max', det_model_dir='C:\\\\Users\\\\HARIKRISHNAN/.paddleocr/2.3.0.1\\\\ocr\\\\det\\\\en\\\\en_ppocr_mobile_v2.0_det_infer', det_sast_nms_thresh=0.2, det_sast_polygon=False, det_sast_score_thresh=0.5, drop_score=0.5, e2e_algorithm='PGNet', e2e_char_dict_path='./ppocr/utils/ic15_dict.txt', e2e_limit_side_len=768, e2e_limit_type='max', e2e_model_dir=None, e2e_pgnet_mode='fast', e2e_pgnet_polygon=True, e2e_pgnet_score_thresh=0.5, e2e_pgnet_valid_set='totaltext', enable_mkldnn=False, gpu_mem=500, help='==SUPPRESS==', image_dir=None, ir_optim=True, label_list=['0', '180'], lang='japan', layout_path_model='lp://PubLayNet/ppyolov2_r50vd_dcn_365e_publaynet/config', max_batch_size=10, max_text_length=25, min_subgraph_size=15, output='./output/table', precision='fp32', process_id=0, rec=True, rec_algorithm='CRNN', rec_batch_num=6, rec_char_dict_path='F:\\\\Anaconda\\\\Anaconda3\\\\envs\\\\deep\\\\lib\\\\site-packages\\\\paddleocr\\\\ppocr\\\\utils\\\\dict\\\\japan_dict.txt', rec_char_type='ch', rec_image_shape='3, 32, 320', rec_model_dir='C:\\\\Users\\\\HARIKRISHNAN/.paddleocr/2.3.0.1\\\\ocr\\\\rec\\\\japan\\\\japan_mobile_v2.0_rec_infer', save_log_path='./log_output/', show_log=True, table_char_dict_path=None, table_char_type='en', table_max_len=488, table_model_dir=None, total_process_num=1, type='ocr', use_angle_cls=True, use_dilation=False, use_gpu=False, use_mp=False, use_pdserving=False, use_space_char=True, use_tensorrt=False, version='PP-OCRv2', vis_font_path='./doc/fonts/simfang.ttf', warmup=True)\n"
     ]
    }
   ],
   "source": [
    "ocr = PaddleOCR(use_angle_cls=True, lang='japan', use_gpu = False)"
   ]
  },
  {
   "cell_type": "code",
   "execution_count": 19,
   "metadata": {},
   "outputs": [
    {
     "name": "stdout",
     "output_type": "stream",
     "text": [
      "[2021/10/13 22:21:35] root DEBUG: dt_boxes num : 5, elapse : 2.115309476852417\n",
      "[2021/10/13 22:21:36] root DEBUG: cls num  : 5, elapse : 0.5100991725921631\n",
      "[2021/10/13 22:21:37] root DEBUG: rec_res num  : 5, elapse : 1.0468566417694092\n"
     ]
    }
   ],
   "source": [
    "book = \"ARMS\"\n",
    "page_index = 13\n",
    "IMAGE_PATH = p.img_path(book=book, index=page_index)\n",
    "img = cv2.imread(IMAGE_PATH)\n",
    "result = ocr.ocr(img, cls=True)"
   ]
  },
  {
   "cell_type": "code",
   "execution_count": 20,
   "metadata": {},
   "outputs": [
    {
     "data": {
      "text/plain": [
       "[[[[1516.0, 117.0], [1551.0, 117.0], [1551.0, 169.0], [1516.0, 169.0]],\n",
       "  ('6', 0.5233706)],\n",
       " [[[445.0, 136.0], [465.0, 136.0], [465.0, 148.0], [445.0, 148.0]],\n",
       "  ('「「', 0.5227305)]]"
      ]
     },
     "execution_count": 20,
     "metadata": {},
     "output_type": "execute_result"
    }
   ],
   "source": [
    "result"
   ]
  },
  {
   "cell_type": "code",
   "execution_count": null,
   "metadata": {},
   "outputs": [],
   "source": []
  },
  {
   "cell_type": "code",
   "execution_count": null,
   "metadata": {},
   "outputs": [],
   "source": []
  },
  {
   "cell_type": "code",
   "execution_count": null,
   "metadata": {},
   "outputs": [],
   "source": []
  }
 ],
 "metadata": {
  "kernelspec": {
   "display_name": "deep",
   "language": "python",
   "name": "deep"
  },
  "language_info": {
   "codemirror_mode": {
    "name": "ipython",
    "version": 3
   },
   "file_extension": ".py",
   "mimetype": "text/x-python",
   "name": "python",
   "nbconvert_exporter": "python",
   "pygments_lexer": "ipython3",
   "version": "3.6.10"
  }
 },
 "nbformat": 4,
 "nbformat_minor": 4
}
