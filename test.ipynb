{
 "cells": [
  {
   "cell_type": "code",
   "execution_count": 1,
   "metadata": {},
   "outputs": [],
   "source": [
    "import os\n",
    "import numpy as np\n",
    "import torch\n",
    "import glob\n",
    "from PIL import Image\n",
    "import cv2\n",
    "import manga109api\n",
    "import torchvision\n",
    "from torchvision import transforms\n",
    "from src.dataset import Resizer, Normalizer\n",
    "from src.model import EfficientDet\n",
    "from torch.utils.data import DataLoader\n",
    "import matplotlib.pyplot as plt\n",
    "from tqdm.notebook import tqdm"
   ]
  },
  {
   "cell_type": "code",
   "execution_count": 2,
   "metadata": {},
   "outputs": [],
   "source": [
    "PATH = \"mangadet.pth\""
   ]
  },
  {
   "cell_type": "code",
   "execution_count": null,
   "metadata": {},
   "outputs": [],
   "source": [
    "model = EfficientDet(num_classes = 2).cuda()\n",
    "model.load_state_dict(torch.load(PATH))\n",
    "model.eval()"
   ]
  },
  {
   "cell_type": "code",
   "execution_count": null,
   "metadata": {},
   "outputs": [],
   "source": [
    "image_base_path = \"F:\\\\Datasets\\\\Manga109\\\\images\\\\\"\n",
    "manga109_root_dir = \"F:\\\\Datasets\\\\Manga109\"\n",
    "p = manga109api.Parser(root_dir=manga109_root_dir)"
   ]
  },
  {
   "cell_type": "code",
   "execution_count": null,
   "metadata": {},
   "outputs": [],
   "source": [
    "book = \"ARMS\"\n",
    "image_full_path = image_base_path + book + '\\\\'\n",
    "annotation = p.get_annotation(book=book)"
   ]
  },
  {
   "cell_type": "code",
   "execution_count": null,
   "metadata": {},
   "outputs": [],
   "source": [
    "page_index = 19\n",
    "img = cv2.imread(p.img_path(book=book, index=page_index))\n",
    "#img = cv2.imread(\"5.jpg\")\n",
    "img = cv2.cvtColor(img, cv2.COLOR_BGR2RGB)\n",
    "img = cv2.resize(img, (512,512))\n",
    "img = img.astype(np.float32) / 255.\n",
    "img = torch.from_numpy(img).unsqueeze(0)\n",
    "img = img.permute(0, 3, 1, 2).double().cuda()"
   ]
  },
  {
   "cell_type": "code",
   "execution_count": null,
   "metadata": {},
   "outputs": [],
   "source": [
    "with torch.no_grad():\n",
    "    out = model(img)"
   ]
  },
  {
   "cell_type": "code",
   "execution_count": null,
   "metadata": {},
   "outputs": [],
   "source": []
  },
  {
   "cell_type": "code",
   "execution_count": null,
   "metadata": {},
   "outputs": [],
   "source": [
    "img = cv2.imread(p.img_path(book=book, index=page_index))\n",
    "#img = cv2.imread(\"5.jpg\")\n",
    "img = cv2.cvtColor(img, cv2.COLOR_BGR2RGB)\n",
    "img = cv2.resize(img, (512,512))\n",
    "for co in out[2]:\n",
    "    color = (255, 0, 0)\n",
    "    thickness = 2\n",
    "    start_point = (int(co[0]), int(co[1]))\n",
    "    end_point = (int(co[2]), int(co[3]))\n",
    "    img = cv2.rectangle(img, start_point, end_point, color, thickness)\n",
    "plt.figure(figsize=(10,12)) \n",
    "plt.imshow(img)"
   ]
  },
  {
   "cell_type": "code",
   "execution_count": null,
   "metadata": {},
   "outputs": [],
   "source": [
    "cv2.imwri"
   ]
  },
  {
   "cell_type": "code",
   "execution_count": null,
   "metadata": {},
   "outputs": [],
   "source": []
  }
 ],
 "metadata": {
  "kernelspec": {
   "display_name": "deep",
   "language": "python",
   "name": "deep"
  },
  "language_info": {
   "codemirror_mode": {
    "name": "ipython",
    "version": 3
   },
   "file_extension": ".py",
   "mimetype": "text/x-python",
   "name": "python",
   "nbconvert_exporter": "python",
   "pygments_lexer": "ipython3",
   "version": "3.6.10"
  }
 },
 "nbformat": 4,
 "nbformat_minor": 4
}
